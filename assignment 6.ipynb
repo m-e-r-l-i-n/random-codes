{
 "cells": [
  {
   "cell_type": "code",
   "execution_count": 1,
   "metadata": {
    "collapsed": true,
    "pycharm": {
     "name": "#%%\n"
    }
   },
   "outputs": [],
   "source": [
    "'''\n",
    "Tamonash Chakraborty\n",
    "CSE-1 59\n",
    "Python Assignment 6\n",
    "'''\n",
    "import numpy as np\n",
    "def inp(n,x):\n",
    "    l=np.random.randint(1,100000)\n",
    "    if x!=-1: l=x\n",
    "    a=np.zeros(l*n,dtype='int64')\n",
    "    itr=0\n",
    "    for i in range(l):\n",
    "        for j in range(n):\n",
    "            a[itr]=np.random.randint(-100000,100000)\n",
    "            itr+=1\n",
    "    a=a.reshape(l,n)\n",
    "    return a\n",
    "\n",
    "def dist(a,b):\n",
    "    l=len(a)\n",
    "    ans=0\n",
    "    for i in range(l):\n",
    "        x=a[i]-b[i]\n",
    "        ans+=x*x\n",
    "    #using square of distances only will help us, because when we do sqrt, precision loss may happen\n",
    "    return ans"
   ]
  },
  {
   "cell_type": "code",
   "execution_count": 4,
   "outputs": [
    {
     "name": "stdout",
     "output_type": "stream",
     "text": [
      "Leaders are:\n",
      "-78313 76281 \n",
      "12630 -69081 \n",
      "79666 33696 \n",
      "Supporters for each leader are:\n",
      "[-26347  50565] \n",
      "[ 95318 -97206] [ 17209 -21763] \n",
      "[18514 46412] [80463 15473] \n",
      "The best leader is: 2\n"
     ]
    }
   ],
   "source": [
    "'''\n",
    "given 3 leaders, find the leader who is the best\n",
    "the best leader is the one with maximum people supporting him\n",
    "a person supports the leader closest to him\n",
    "'''\n",
    "\n",
    "def best_leader(p,l):   #p stores location of people, l stores location of leaders\n",
    "    m=np.zeros(3)\n",
    "    sup=[[] for _ in range(3)]\n",
    "    for i in p:\n",
    "        d1=dist(i,l[0])\n",
    "        d2=dist(i,l[1])\n",
    "        d3=dist(i,l[2])\n",
    "        if d1<=d2 and d1<=d3:\n",
    "            m[0]+=1\n",
    "            sup[0].append(i)\n",
    "        elif d2<=d1 and d2<=d3:\n",
    "            m[1]+=1\n",
    "            sup[1].append(i)\n",
    "        else:\n",
    "            m[2]+=1\n",
    "            sup[2].append(i)\n",
    "    mx=m.max()\n",
    "    ans=0\n",
    "    for i in range(3):\n",
    "        if m[i]==mx:\n",
    "            ans=i\n",
    "            break\n",
    "\n",
    "    print(\"Leaders are:\")\n",
    "    for i in l:\n",
    "        for j in i: print(j,end=' ')\n",
    "        print()\n",
    "    print(\"Supporters for each leader are:\")\n",
    "    for i in sup:\n",
    "        for j in i: print(j,end=' ')\n",
    "        print()\n",
    "    print(\"The best leader is:\",(ans+1))\n",
    "\n",
    "\n",
    "def same(a):    #so that no 2 leaders have same point\n",
    "    l=len(a)\n",
    "    for i in range(l):\n",
    "        for j in range(l):\n",
    "            if i!=j:\n",
    "                sm=True\n",
    "                for k in range(len(a[i])):\n",
    "                    if a[i][k]!=a[j][k]:\n",
    "                        sm=False\n",
    "                        break\n",
    "                if sm: return True\n",
    "    return False\n",
    "\n",
    "a=inp(2,5)  #change it as you feel as it denotes number of dimensions\n",
    "b=inp(2,3)\n",
    "while(same(b)): b=inp(3,3)\n",
    "best_leader(a,b)"
   ],
   "metadata": {
    "collapsed": false,
    "pycharm": {
     "name": "#%%\n"
    }
   }
  },
  {
   "cell_type": "code",
   "execution_count": 8,
   "outputs": [
    {
     "name": "stdout",
     "output_type": "stream",
     "text": [
      "Groups are:\n",
      "93001 3170 \n",
      "16785 666 \n",
      "-69951 -70050 \n",
      "21092 -55855 \n",
      "-36572 27456 \n",
      "\n",
      "31977 40549 \n",
      "-31991 96209 \n",
      "82361 16618 \n",
      "89729 18026 \n",
      "-90911 48960 \n",
      "\n",
      "63510 53344 \n",
      "72679 -12445 \n",
      "-3994 -18445 \n",
      "37576 -78027 \n",
      "65264 -92161 \n",
      "\n",
      "-55118 21222 \n",
      "-33131 81467 \n",
      "83875 -40400 \n",
      "-29911 54661 \n",
      "-28307 -68897 \n",
      "\n",
      "Strongest group is: 3\n"
     ]
    }
   ],
   "source": [
    "'''\n",
    "given 4 groups of points, find group with maximum strength\n",
    "strength is maximum when points are closest to each other, that is sum of distances of all points from the mean point\n",
    "'''\n",
    "\n",
    "def group_strength(g):\n",
    "    l=len(g[0])\n",
    "    n=len(g)\n",
    "    a=np.zeros(l,dtype='float64')\n",
    "    for i in range(n):\n",
    "        for j in range(l):\n",
    "            a[j]+=g[i][j]\n",
    "    for i in range(l):\n",
    "        a[i]/=n\n",
    "\n",
    "    ans=0\n",
    "    for i in g:\n",
    "        ans+=dist(a,i)\n",
    "    return ans\n",
    "\n",
    "def print_group(g):\n",
    "    for i in g:\n",
    "        for j in i: print(j,end=' ')\n",
    "        print()\n",
    "    print()\n",
    "\n",
    "def maximum_strength(g):\n",
    "    l=len(g)\n",
    "    m=pow(10,25)\n",
    "    ans=0\n",
    "    print(\"Groups are:\")\n",
    "    for i in range(l):\n",
    "        gr=group_strength(g[i])\n",
    "        print_group(g[i])\n",
    "        if gr<m:\n",
    "            m=gr\n",
    "            ans=i+1\n",
    "    print(\"Strongest group is:\",ans)\n",
    "\n",
    "g=[]\n",
    "for _ in range(4):  #change it if you want more number of groups\n",
    "    g.append(inp(2,5))  #change them if you want more dimensions or use -1 if u want random groups\n",
    "maximum_strength(g)\n",
    "\n",
    "\n",
    "#this code is written by merlin"
   ],
   "metadata": {
    "collapsed": false,
    "pycharm": {
     "name": "#%%\n"
    }
   }
  }
 ],
 "metadata": {
  "kernelspec": {
   "display_name": "Python 3",
   "language": "python",
   "name": "python3"
  },
  "language_info": {
   "codemirror_mode": {
    "name": "ipython",
    "version": 2
   },
   "file_extension": ".py",
   "mimetype": "text/x-python",
   "name": "python",
   "nbconvert_exporter": "python",
   "pygments_lexer": "ipython2",
   "version": "2.7.6"
  }
 },
 "nbformat": 4,
 "nbformat_minor": 0
}