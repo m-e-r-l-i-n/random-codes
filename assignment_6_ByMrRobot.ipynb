{
 "cells": [
  {
   "cell_type": "code",
   "execution_count": null,
   "metadata": {
    "collapsed": true
   },
   "outputs": [],
   "source": [
    "'''\n",
    "given 3 leaders, find the leader who is the best\n",
    "the best leader is the one with maximum people supporting him\n",
    "a person supports the leader closest to him\n",
    "'''\n",
    "def calculateDistance(person, leader):\n",
    "    dist = 0\n",
    "    for i in range(len(person)):\n",
    "        dist += abs(person[i]-leader[i])**2\n",
    "    return dist\n",
    "import numpy as np\n",
    "rows = np.random.randint(10)\n",
    "cols = np.random.randint(10)\n",
    "while rows*cols <= 3:\n",
    "    rows = np.random.randint(10)\n",
    "    cols = np.random.randint(10)\n",
    "ones= np.full(shape=3,fill_value=1, dtype=int)  #1 for leader\n",
    "zeros= np.full(rows*cols-3,fill_value=0 ,dtype=int)  #0 for people\n",
    "arr=np.concatenate((ones,zeros), axis=0, out=None)\n",
    "np.random.shuffle(arr)\n",
    "matrix = arr.reshape(rows, cols)\n",
    "print(matrix)\n",
    "leaders = np.where(matrix == 1)\n",
    "leaders = tuple(zip(*leaders))\n",
    "print(\"Leaders are at\", leaders)\n",
    "a,b,c = 0, 0, 0\n",
    "supportingPeople = [[],[],[]]\n",
    "for i in range(rows):\n",
    "    for j in range(cols):\n",
    "        if matrix[i][j] != 1:\n",
    "            temp = (i, j)\n",
    "            distA = calculateDistance(temp, leaders[0])\n",
    "            distB = calculateDistance(temp, leaders[1])\n",
    "            distC = calculateDistance(temp, leaders[2])\n",
    "            if distB < distA > distC:\n",
    "                a += 1\n",
    "                supportingPeople[0].append(temp)\n",
    "            elif distA < distB > distC:\n",
    "                b += 1\n",
    "                supportingPeople[1].append(temp)\n",
    "            else:\n",
    "                c += 1\n",
    "                supportingPeople[2].append(temp)\n",
    "winnerLeader = ()\n",
    "supporters = []\n",
    "winningVotes = 0\n",
    "if b < a > c:\n",
    "    winnerLeader = leaders[0]\n",
    "    supporters = supportingPeople[0]\n",
    "    winningVotes = a\n",
    "elif a < b > c:\n",
    "    winnerLeader = leaders[1]\n",
    "    supporters = supportingPeople[1]\n",
    "    winningVotes = b\n",
    "else:\n",
    "    winnerLeader = leaders[2]\n",
    "    supporters = supportingPeople[2]\n",
    "    winningVotes = c\n",
    "print(\"Leader who won is at\", winnerLeader, \"with\",winningVotes,\"votes\")\n",
    "print(\"His supporters are at\", supporters)\n"
   ]
  }
 ],
 "metadata": {
  "kernelspec": {
   "display_name": "Python 3",
   "language": "python",
   "name": "python3"
  },
  "language_info": {
   "codemirror_mode": {
    "name": "ipython",
    "version": 2
   },
   "file_extension": ".py",
   "mimetype": "text/x-python",
   "name": "python",
   "nbconvert_exporter": "python",
   "pygments_lexer": "ipython2",
   "version": "2.7.6"
  }
 },
 "nbformat": 4,
 "nbformat_minor": 0
}