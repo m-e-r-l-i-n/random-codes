{
 "cells": [
  {
   "cell_type": "code",
   "execution_count": 2,
   "metadata": {
    "collapsed": true
   },
   "outputs": [],
   "source": [
    "import numpy as np\n",
    "def matrix(n):\n",
    "    if len(n)==1:\n",
    "        return np.random.randint(100,size=(n[0],n[0]))\n",
    "    return np.random.randint(100,size=(n[0],n[1]))\n",
    "\n",
    "k=1 #change it as per ur requirement\n",
    "l=[]\n",
    "l.append(3) #change 3 as per ur requirement"
   ]
  },
  {
   "cell_type": "code",
   "execution_count": 15,
   "outputs": [
    {
     "name": "stdout",
     "output_type": "stream",
     "text": [
      "[[35 87  3]\n",
      " [42 82 78]\n",
      " [37 58 89]]\n"
     ]
    }
   ],
   "source": [
    "#1.make a random nxn matrix and print it\n",
    "def randmat(n):\n",
    "    a=matrix(n)\n",
    "    print(a)\n",
    "\n",
    "for _ in range(k):\n",
    "    randmat(l)"
   ],
   "metadata": {
    "collapsed": false,
    "pycharm": {
     "name": "#%%\n"
    }
   }
  },
  {
   "cell_type": "code",
   "execution_count": 17,
   "outputs": [
    {
     "name": "stdout",
     "output_type": "stream",
     "text": [
      "[[83 56 38]\n",
      " [90 61 13]\n",
      " [21 95 84]]\n",
      "sum of left diagonal: 228\n",
      "sum of right diagonal: 120\n"
     ]
    }
   ],
   "source": [
    "#2.sum of diagonal elements of a nxn matrix\n",
    "def sumdiag(n):\n",
    "    a=matrix(n)\n",
    "    print(a)\n",
    "    suml=0\n",
    "    sumr=0\n",
    "    for i in range(n[0]):\n",
    "        suml+=a[i][i]\n",
    "        sumr+=a[i][n[0]-i-1]\n",
    "    print(\"sum of left diagonal:\",suml)\n",
    "    print(\"sum of right diagonal:\",sumr)\n",
    "\n",
    "for _ in range(k):\n",
    "    sumdiag(l)"
   ],
   "metadata": {
    "collapsed": false,
    "pycharm": {
     "name": "#%%\n"
    }
   }
  },
  {
   "cell_type": "code",
   "execution_count": 18,
   "outputs": [
    {
     "name": "stdout",
     "output_type": "stream",
     "text": [
      "[[31 20 51]\n",
      " [95 94 95]\n",
      " [52 83 92]]\n",
      "[[26 29 58]\n",
      " [ 1 20 17]\n",
      " [40 11 67]]\n",
      "[[ 57  49 109]\n",
      " [ 96 114 112]\n",
      " [ 92  94 159]]\n"
     ]
    }
   ],
   "source": [
    "#3.add two matrices\n",
    "def addmat(n):\n",
    "    a=matrix(n)\n",
    "    b=matrix(n)\n",
    "    print(a)\n",
    "    print(b)\n",
    "    print(np.add(a,b))\n",
    "\n",
    "for _ in range(k):\n",
    "    addmat(l)"
   ],
   "metadata": {
    "collapsed": false,
    "pycharm": {
     "name": "#%%\n"
    }
   }
  },
  {
   "cell_type": "code",
   "execution_count": 19,
   "outputs": [
    {
     "name": "stdout",
     "output_type": "stream",
     "text": [
      "[[14 10 82]\n",
      " [22 37 43]\n",
      " [33 33 12]]\n",
      "[[88 69 94]\n",
      " [87 27 67]\n",
      " [ 2 56 98]]\n",
      "[[1232  690 7708]\n",
      " [1914  999 2881]\n",
      " [  66 1848 1176]]\n"
     ]
    }
   ],
   "source": [
    "#4.element wise multiplication of 2 nxn matrices\n",
    "def elemul(n):\n",
    "    a=matrix(n)\n",
    "    b=matrix(n)\n",
    "    print(a)\n",
    "    print(b)\n",
    "    print(np.multiply(a,b))\n",
    "\n",
    "for _ in range(k):\n",
    "    elemul(l)"
   ],
   "metadata": {
    "collapsed": false,
    "pycharm": {
     "name": "#%%\n"
    }
   }
  },
  {
   "cell_type": "code",
   "execution_count": 20,
   "outputs": [
    {
     "name": "stdout",
     "output_type": "stream",
     "text": [
      "[[28 44 74]\n",
      " [40 81 70]\n",
      " [57 63  6]]\n",
      "[[39 10 26]\n",
      " [52 67 37]\n",
      " [76 43 30]]\n",
      "[[ 9004  6410  4576]\n",
      " [11092  8837  6137]\n",
      " [ 5955  5049  3993]]\n"
     ]
    }
   ],
   "source": [
    "#5.matrix multiplication(dot product) of 2 nxn matrices\n",
    "def mulmat(n):\n",
    "    a=matrix(n)\n",
    "    b=matrix(n)\n",
    "    print(a)\n",
    "    print(b)\n",
    "    print(np.dot(a,b))\n",
    "\n",
    "for _ in range(k):\n",
    "    mulmat(l)"
   ],
   "metadata": {
    "collapsed": false,
    "pycharm": {
     "name": "#%%\n"
    }
   }
  },
  {
   "cell_type": "code",
   "execution_count": 23,
   "outputs": [
    {
     "name": "stdout",
     "output_type": "stream",
     "text": [
      "[[43 25 12 45 92]\n",
      " [86 23  2 88 56]\n",
      " [62  0  3 23 69]\n",
      " [99 80 88 82 14]]\n",
      "4\n"
     ]
    }
   ],
   "source": [
    "#6.rank of a matrix\n",
    "def rankmat(n):\n",
    "    a=matrix(n)\n",
    "    print(a)\n",
    "    print(np.linalg.matrix_rank(a))\n",
    "\n",
    "for _ in range(k):\n",
    "    a,b=[int(a) for a in input(\"Enter row and column: \").split()]\n",
    "    li=[]\n",
    "    li.append(a)\n",
    "    li.append(b)\n",
    "    rankmat(li)"
   ],
   "metadata": {
    "collapsed": false,
    "pycharm": {
     "name": "#%%\n"
    }
   }
  },
  {
   "cell_type": "code",
   "execution_count": 24,
   "outputs": [
    {
     "name": "stdout",
     "output_type": "stream",
     "text": [
      "[[20 24 57]\n",
      " [59 61 69]\n",
      " [48  4 77]]\n",
      "trace of matrix is:  158\n"
     ]
    }
   ],
   "source": [
    "#7.trace of a nxn matrix\n",
    "def trace(n):\n",
    "    a=matrix(n)\n",
    "    sum=0\n",
    "    for i in range(n[0]):\n",
    "        sum+=a[i][i]\n",
    "    print(a)\n",
    "    print(\"trace of matrix is: \",sum)\n",
    "\n",
    "for _ in range(k):\n",
    "    trace(l)"
   ],
   "metadata": {
    "collapsed": false,
    "pycharm": {
     "name": "#%%\n"
    }
   }
  },
  {
   "cell_type": "code",
   "execution_count": 25,
   "outputs": [
    {
     "name": "stdout",
     "output_type": "stream",
     "text": [
      "[[11 32 51]\n",
      " [68 33 52]\n",
      " [32 70 38]]\n",
      "133218.00000000003\n"
     ]
    }
   ],
   "source": [
    "#8.determinant of a nxn matrix\n",
    "def determinant(n):\n",
    "    a=matrix(n)\n",
    "    print(a)\n",
    "    print(np.linalg.det(a))\n",
    "\n",
    "for _ in range(k):\n",
    "    determinant(l)"
   ],
   "metadata": {
    "collapsed": false,
    "pycharm": {
     "name": "#%%\n"
    }
   }
  },
  {
   "cell_type": "code",
   "execution_count": 3,
   "outputs": [
    {
     "name": "stdout",
     "output_type": "stream",
     "text": [
      "Enter the equations:\n",
      "Enter values of a1, a2,...a3 in a1x1+a2x2+...+a3x3=b\n",
      "Enter the b value:\n",
      "Enter values of a1, a2,...a3 in a1x1+a2x2+...+a3x3=b\n",
      "Enter the b value:\n",
      "Enter values of a1, a2,...a3 in a1x1+a2x2+...+a3x3=b\n",
      "Enter the b value:\n",
      "[[ 1  1  1]\n",
      " [ 0  2  5]\n",
      " [ 2  5 -1]]\n",
      "[ 6 -4 27]\n",
      "x1: 5.000000000000002\n",
      "x2: 2.9999999999999996\n",
      "x3: -2.0\n"
     ]
    },
    {
     "data": {
      "text/plain": "'\\nthe input may be difficult to enter\\nuse this-\\n1 1 1\\n6\\n0 2 5\\n-4\\n2 5 -1\\n27\\n\\no/p-\\n5 3 -2\\nnote that since calculation of inverse involves lot of floating point divisions answers may not be accurate to the dot\\n'"
     },
     "execution_count": 3,
     "metadata": {},
     "output_type": "execute_result"
    }
   ],
   "source": [
    "#9.solve a set of linear equations\n",
    "def equation(n):\n",
    "    l=n[0]\n",
    "    a=np.zeros(l*l,dtype=int)\n",
    "    a=a.reshape(l,l)\n",
    "    b=np.zeros(l,dtype=int)\n",
    "    print(\"Enter the equations:\")\n",
    "    for i in range(l):\n",
    "        print(\"Enter values of a1, a2,...a\"+str(l),end='')\n",
    "        print(\" in a1x1+a2x2+...+a\"+str(l)+\"x\"+str(l)+\"=b\")\n",
    "        x=list(map(int,input().split()))\n",
    "        for j in range(l):\n",
    "            a[i][j]=x[j]\n",
    "        print(\"Enter the b value:\")\n",
    "        b[i]=int(input())\n",
    "    print(a)\n",
    "    print(b)\n",
    "    dt=np.linalg.det(a)\n",
    "    if dt==0:\n",
    "        print(\"Solution does not exist\")\n",
    "        return\n",
    "    res=np.linalg.inv(a)\n",
    "    res=np.dot(res,b)\n",
    "    for i in range(l):\n",
    "        print(\"x\"+str(i+1)+\": \"+str(res[i]))\n",
    "\n",
    "for _ in range(k):\n",
    "    equation(l)\n",
    "\n",
    "'''\n",
    "the input may be difficult to enter\n",
    "use this-\n",
    "1 1 1\n",
    "6\n",
    "0 2 5\n",
    "-4\n",
    "2 5 -1\n",
    "27\n",
    "\n",
    "o/p-\n",
    "5 3 -2\n",
    "note that since calculation of inverse involves lot of floating point divisions answers may not be accurate to the dot\n",
    "'''"
   ],
   "metadata": {
    "collapsed": false,
    "pycharm": {
     "name": "#%%\n"
    }
   }
  },
  {
   "cell_type": "code",
   "execution_count": 33,
   "outputs": [
    {
     "name": "stdout",
     "output_type": "stream",
     "text": [
      "[2, 3, 3, 1, 1, 1, 5, 5, 5, 5]\n",
      "mean:  3.1\n",
      "median:  4.0\n",
      "mode:  5\n",
      "[1]\n",
      "mean:  1.0\n",
      "median:  1\n",
      "mode:  1\n"
     ]
    }
   ],
   "source": [
    "#10.find mean median mode of a set of elements\n",
    "def stats(a):\n",
    "    n=len(a)\n",
    "    sm=0\n",
    "    a.sort()\n",
    "    dic={}\n",
    "    for i in a:\n",
    "        sm+=i\n",
    "        if i not in dic: dic[i]=0\n",
    "        dic[i]+=1\n",
    "    mean=sm/n\n",
    "    median=a[n//2]\n",
    "    if n%2==0:\n",
    "        median=a[n//2]+a[n//2+1]\n",
    "        median/=2\n",
    "    max=0\n",
    "    mode=0\n",
    "    for i in dic.keys():\n",
    "        if dic[i]>max:\n",
    "            max=dic[i]\n",
    "            mode=i\n",
    "    print(\"mean: \",mean)\n",
    "    print(\"median: \",median)\n",
    "    print(\"mode: \",mode)\n",
    "\n",
    "for _ in range(k+1):\n",
    "    a=list(map(int,input().split()))\n",
    "    print(a)\n",
    "    stats(a)"
   ],
   "metadata": {
    "collapsed": false,
    "pycharm": {
     "name": "#%%\n"
    }
   }
  },
  {
   "cell_type": "code",
   "execution_count": 31,
   "outputs": [
    {
     "name": "stdout",
     "output_type": "stream",
     "text": [
      "[[10 70 12]\n",
      " [63 35 25]\n",
      " [73 53 99]]\n",
      "Row maximas are:  [70 63 99]\n",
      "Column minimas are:  [10 35 12]\n"
     ]
    }
   ],
   "source": [
    "#11.row-wise max and column-wise min of nxn matrix\n",
    "def maxmin(n):\n",
    "    a=matrix(n)\n",
    "    ma=np.zeros(n[0],dtype=np.int)\n",
    "    mi=np.full(n[0],101)\n",
    "    for i in range(n[0]):\n",
    "        for j in range(n[0]):\n",
    "            ma[i]=max(ma[i],a[i][j])\n",
    "            mi[j]=min(mi[j],a[i][j])\n",
    "    print(a)\n",
    "    print(\"Row maximas are: \",ma)\n",
    "    print(\"Column minimas are: \",mi)\n",
    "\n",
    "for _ in range(k):\n",
    "    maxmin(l)"
   ],
   "metadata": {
    "collapsed": false,
    "pycharm": {
     "name": "#%%\n"
    }
   }
  },
  {
   "cell_type": "code",
   "execution_count": 32,
   "outputs": [
    {
     "name": "stdout",
     "output_type": "stream",
     "text": [
      "[[ 8 41 83]\n",
      " [16  7 19]\n",
      " [82  5 12]]\n",
      "[[72 57 67]\n",
      " [ 6 42 91]\n",
      " [26 22 54]]\n",
      "[[-64 -16  16]\n",
      " [ 10 -35 -72]\n",
      " [ 56 -17 -42]]\n"
     ]
    }
   ],
   "source": [
    "#12.subtract 2 matrices\n",
    "def submat(n):\n",
    "    a=matrix(n)\n",
    "    b=matrix(n)\n",
    "    print(a)\n",
    "    print(b)\n",
    "    print(np.subtract(a,b))\n",
    "\n",
    "for _ in range(k):\n",
    "    submat(l)"
   ],
   "metadata": {
    "collapsed": false,
    "pycharm": {
     "name": "#%%\n"
    }
   }
  }
 ],
 "metadata": {
  "kernelspec": {
   "display_name": "Python 3",
   "language": "python",
   "name": "python3"
  },
  "language_info": {
   "codemirror_mode": {
    "name": "ipython",
    "version": 2
   },
   "file_extension": ".py",
   "mimetype": "text/x-python",
   "name": "python",
   "nbconvert_exporter": "python",
   "pygments_lexer": "ipython2",
   "version": "2.7.6"
  }
 },
 "nbformat": 4,
 "nbformat_minor": 0
}