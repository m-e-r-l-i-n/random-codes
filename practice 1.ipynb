{
 "cells": [
  {
   "cell_type": "code",
   "execution_count": 1,
   "metadata": {},
   "outputs": [],
   "source": [
    "'''\n",
    "check if a string is a balanced string\n",
    "a balanced string is one where sum of frequency of characters in left of middle character is equal to that of right\n",
    "eg. abcadfbbbdc is balance because w.r.t mid character f sum of frequency in left is=(2+1+1+1=5) and in right(3+1+1=5)\n",
    "'''\n",
    "\n",
    "def balance(s):\n",
    "    l=len(s)\n",
    "    if l%2==1: return True\n",
    "    return False"
   ]
  },
  {
   "cell_type": "code",
   "execution_count": 2,
   "metadata": {},
   "outputs": [
    {
     "name": "stdout",
     "output_type": "stream",
     "text": [
      "True\n",
      "False\n",
      "True\n"
     ]
    }
   ],
   "source": [
    "print(balance('abcadfbbbdc'))\n",
    "print(balance('abab'))\n",
    "print(balance('abcde'))"
   ]
  },
  {
   "cell_type": "code",
   "execution_count": 3,
   "metadata": {},
   "outputs": [],
   "source": [
    "'''\n",
    "Consider a string is balance is highest of frequency of a character in left and right side with respect to middle is equal. \n",
    "Write a program to find out balance string.\n",
    "'''\n",
    "\n",
    "def newbalance(s):\n",
    "    l=len(s)\n",
    "    m=0\n",
    "    n=0\n",
    "    c=[0]*26\n",
    "    for i in range (0,l//2):\n",
    "        ch=ord(s[i])-97\n",
    "        c[ch]+=1\n",
    "        m=max(m,c[ch])\n",
    "    e=l//2\n",
    "    if l%2==1: e+=1\n",
    "    c=[0]*26\n",
    "    for i in range(e,l):\n",
    "        ch=ord(s[i])-97\n",
    "        c[ch]+=1\n",
    "        n=max(n,c[ch])\n",
    "    return n==m    "
   ]
  },
  {
   "cell_type": "code",
   "execution_count": 4,
   "metadata": {},
   "outputs": [
    {
     "name": "stdout",
     "output_type": "stream",
     "text": [
      "True\n",
      "False\n",
      "True\n"
     ]
    }
   ],
   "source": [
    "print(newbalance('abcde'))\n",
    "print(newbalance('aabcde'))\n",
    "print(newbalance('a'))"
   ]
  },
  {
   "cell_type": "code",
   "execution_count": 5,
   "metadata": {},
   "outputs": [],
   "source": [
    "'''\n",
    "Given a string, create a cipher text by replacing every character in it by the character 'x' places to its right in circular manner.\n",
    "eg s=abc x=2 ans=cde\n",
    "'''\n",
    "\n",
    "def cipher(s,x):\n",
    "    x%=26\n",
    "    ans=''\n",
    "    for i in s:\n",
    "        if i==' ': \n",
    "            ans+=i\n",
    "            continue\n",
    "        c=97+(ord(i)-97+x)%26\n",
    "        ans+=chr(c)\n",
    "    return ans    "
   ]
  },
  {
   "cell_type": "code",
   "execution_count": 6,
   "metadata": {},
   "outputs": [
    {
     "name": "stdout",
     "output_type": "stream",
     "text": [
      "l oryh x\n",
      "cde\n",
      "aevre\n"
     ]
    }
   ],
   "source": [
    "print(cipher('i love u',3))\n",
    "print(cipher('abc',2))\n",
    "print(cipher('warna',4))"
   ]
  },
  {
   "cell_type": "code",
   "execution_count": null,
   "metadata": {},
   "outputs": [],
   "source": []
  }
 ],
 "metadata": {
  "kernelspec": {
   "display_name": "Python 3",
   "language": "python",
   "name": "python3"
  },
  "language_info": {
   "codemirror_mode": {
    "name": "ipython",
    "version": 3
   },
   "file_extension": ".py",
   "mimetype": "text/x-python",
   "name": "python",
   "nbconvert_exporter": "python",
   "pygments_lexer": "ipython3",
   "version": "3.8.3"
  }
 },
 "nbformat": 4,
 "nbformat_minor": 2
}
