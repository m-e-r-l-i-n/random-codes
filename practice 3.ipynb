{
 "cells": [
  {
   "cell_type": "code",
   "execution_count": 1,
   "metadata": {},
   "outputs": [],
   "source": [
    "def inp(k):\n",
    "    if k==0: return int(input())\n",
    "    return list(map(int,input().split()))"
   ]
  },
  {
   "cell_type": "code",
   "execution_count": 2,
   "metadata": {},
   "outputs": [],
   "source": [
    "def add(dic,k):\n",
    "    if k not in dic: dic[k]=1\n",
    "    else: dic[k]+=1\n",
    "\n",
    "def star(a):\n",
    "    dic={}\n",
    "    ans=0\n",
    "    for i in a:\n",
    "        if i in dic: ans=max(ans,dic[i])\n",
    "        j=1\n",
    "        while j*j<=i:\n",
    "            if i%j==0:\n",
    "                add(dic,j)\n",
    "                if (i//j)!=j: add(dic,i//j)\n",
    "            j+=1\n",
    "    return ans"
   ]
  },
  {
   "cell_type": "code",
   "execution_count": 3,
   "metadata": {},
   "outputs": [
    {
     "name": "stdout",
     "output_type": "stream",
     "text": [
      "3 2 4 1 10\n",
      "3\n",
      "10 20 5 2 1 4\n",
      "4\n",
      "1000000 23423 5000 2350 100000 1000 23455\n",
      "3\n"
     ]
    }
   ],
   "source": [
    "for _ in range(3):\n",
    "    print(star(inp(1)))"
   ]
  },
  {
   "cell_type": "code",
   "execution_count": 4,
   "metadata": {},
   "outputs": [],
   "source": [
    "def beautiful(n):\n",
    "    if n==1: return [1]\n",
    "    if (n&(n-1))==0: return -1\n",
    "    a=[0]*n\n",
    "    a[0]=2\n",
    "    a[1]=3\n",
    "    a[2]=1\n",
    "    c=4\n",
    "    for i in range(3,n):\n",
    "        if a[i]!=0: continue\n",
    "        if (c&(c-1))==0:\n",
    "            a[i]=c+1\n",
    "            a[i+1]=c\n",
    "            c+=2\n",
    "        else:\n",
    "            a[i]=c\n",
    "            c+=1\n",
    "    return a"
   ]
  },
  {
   "cell_type": "code",
   "execution_count": 5,
   "metadata": {},
   "outputs": [
    {
     "name": "stdout",
     "output_type": "stream",
     "text": [
      "5\n",
      "[2, 3, 1, 5, 4]\n",
      "1\n",
      "[1]\n",
      "10\n",
      "[2, 3, 1, 5, 4, 6, 7, 9, 8, 10]\n",
      "8\n",
      "-1\n",
      "7\n",
      "[2, 3, 1, 5, 4, 6, 7]\n"
     ]
    }
   ],
   "source": [
    "for _ in range(5):\n",
    "    n=inp(0)\n",
    "    print(beautiful(n))"
   ]
  },
  {
   "cell_type": "code",
   "execution_count": null,
   "metadata": {},
   "outputs": [],
   "source": []
  }
 ],
 "metadata": {
  "kernelspec": {
   "display_name": "Python 3",
   "language": "python",
   "name": "python3"
  },
  "language_info": {
   "codemirror_mode": {
    "name": "ipython",
    "version": 3
   },
   "file_extension": ".py",
   "mimetype": "text/x-python",
   "name": "python",
   "nbconvert_exporter": "python",
   "pygments_lexer": "ipython3",
   "version": "3.6.11"
  }
 },
 "nbformat": 4,
 "nbformat_minor": 2
}
