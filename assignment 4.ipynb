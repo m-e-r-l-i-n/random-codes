{
 "cells": [
  {
   "cell_type": "code",
   "execution_count": 59,
   "metadata": {
    "pycharm": {
     "name": "#%%\n"
    }
   },
   "outputs": [],
   "source": [
    "#this is for taking inputs, helpful thing tbh\n",
    "def inp(n):\n",
    "    if n==1:\n",
    "        return input()  #returns string\n",
    "    elif n==2:\n",
    "        return int(input())     #returns int\n",
    "    else:\n",
    "        return list(map(int,input().strip().split()))   #returns 2 ints as list"
   ]
  },
  {
   "cell_type": "code",
   "execution_count": 60,
   "metadata": {
    "pycharm": {
     "name": "#%%\n"
    }
   },
   "outputs": [],
   "source": [
    "'''\n",
    "reduce a string by removing 2 subsequent similar characters\n",
    "operation should be carried out as many times as possible\n",
    "eg-\n",
    "i/p: aaabbccd\n",
    "o/p: ad\n",
    "'''\n",
    "\n",
    "from collections import deque\n",
    "def reduce(s):\n",
    "    st=deque()\n",
    "    for i in s:\n",
    "        if st and ord(st[-1])==ord(i):\n",
    "            st.pop()\n",
    "        else:\n",
    "            st.append(i)\n",
    "    ans=\"\"\n",
    "    for i in st:\n",
    "        ans+=i\n",
    "    return ans"
   ]
  },
  {
   "cell_type": "code",
   "execution_count": 61,
   "metadata": {
    "pycharm": {
     "name": "#%%\n"
    }
   },
   "outputs": [
    {
     "name": "stdout",
     "output_type": "stream",
     "text": [
      "\n",
      "abcd\n",
      "abd\n",
      "uvwxz\n"
     ]
    }
   ],
   "source": [
    "for _ in range(4):  #change range to whatever number pleases you\n",
    "    print(reduce(inp(1)))\n"
   ]
  },
  {
   "cell_type": "code",
   "execution_count": 62,
   "metadata": {
    "pycharm": {
     "name": "#%%\n"
    }
   },
   "outputs": [],
   "source": [
    "'''\n",
    "represent an integer number in roman\n",
    "consider number <=4000\n",
    "(because above that i really have no idea how to express them)\n",
    "'''\n",
    "\n",
    "u=['','I','II','III','IV','V','VI','VII','VIII','IX']\n",
    "t=['','X','XX','XXX','XL','L','LX','LXX','LXXX','XC']\n",
    "h=['','C','CC','CCC','CD','D','DC','DCC','DCCC','CM']\n",
    "th=['','M','MM','MMM','MMMM']\n",
    "# the above are values of roman numbers in units, tens, hundreds and thousands\n",
    "\n",
    "def roman(n):\n",
    "    ans=''\n",
    "    ans+=th[n//1000]\n",
    "    n%=1000\n",
    "    ans+=h[n//100]\n",
    "    n%=100\n",
    "    ans+=t[n//10]\n",
    "    ans+=u[n%10]\n",
    "    return ans"
   ]
  },
  {
   "cell_type": "code",
   "execution_count": 63,
   "metadata": {
    "pycharm": {
     "name": "#%%\n"
    }
   },
   "outputs": [
    {
     "name": "stdout",
     "output_type": "stream",
     "text": [
      "MI\n",
      "I\n",
      "MMMCDLVI\n",
      "CCXCVIII\n",
      "CXXIII\n"
     ]
    }
   ],
   "source": [
    "for _ in range(5):\n",
    "    print(roman(inp(2)))"
   ]
  },
  {
   "cell_type": "code",
   "execution_count": 64,
   "metadata": {},
   "outputs": [],
   "source": [
    "'''\n",
    "find twin primes in a range\n",
    "twin primes are primes which have a diff of 2\n",
    "'''\n",
    "\n",
    "N=100000    #our max range(try not to input a b above this number)\n",
    "p=[False]*(N+1)\n",
    "pr=[]\n",
    "def sieve():     #getting all primes in range[1,10^5]\n",
    "    p[0]=p[1]=True\n",
    "    for i in range(2,N):    #the all powerful sieve of Eratos.\n",
    "        if p[i]==False:\n",
    "            for j in range(2*i,N,i): p[j]=True\n",
    "\n",
    "def itertwin():     #why am i using separate func? cause i need sieve multiple times\n",
    "    for i in range(2,N-1):\n",
    "        if p[i]==False and p[i+2]==False:\n",
    "            pr.append(i)\n",
    "            pr.append(i+2)\n",
    "            i+=2\n",
    "\n",
    "def smalleq(k,a):  #index of prime equal or greater than k\n",
    "    l=0\n",
    "    r=len(a)-1\n",
    "    mid=0\n",
    "    ans=0\n",
    "    if k>a[-1]: return -1   #our only edge case\n",
    "    while l<=r:\n",
    "        mid=(l+r)//2\n",
    "        if a[mid]>=k:\n",
    "            r=mid-1\n",
    "            ans=mid\n",
    "        else: l=mid+1\n",
    "    return ans\n",
    "\n",
    "sieve()\n",
    "itertwin()\n",
    "def twin_prime(a,b):\n",
    "    sm=smalleq(a,pr)\n",
    "    if sm==-1: return\n",
    "    if pr[sm]==5: sm+=1     #critical case as 5 is the only tp in 2 pairs\n",
    "    while sm+1<len(pr) and pr[sm+1]<=b:\n",
    "        if pr[sm+1]-pr[sm]>2: sm+=1 #note that all twin primes are not always twin primes when ranges are considered\n",
    "        else:\n",
    "            print(pr[sm],pr[sm+1])\n",
    "            sm+=2"
   ]
  },
  {
   "cell_type": "code",
   "execution_count": 65,
   "outputs": [
    {
     "name": "stdout",
     "output_type": "stream",
     "text": [
      "3 5\n",
      "5 7\n",
      "11 13\n",
      "17 19\n",
      "29 31\n"
     ]
    }
   ],
   "source": [
    "for _ in range(2):\n",
    "    l=inp(3)\n",
    "    twin_prime(l[0],l[1])"
   ],
   "metadata": {
    "collapsed": false,
    "pycharm": {
     "name": "#%%\n"
    }
   }
  },
  {
   "cell_type": "code",
   "execution_count": 66,
   "outputs": [],
   "source": [
    "'''\n",
    "find palindromic primes in a range\n",
    "'''\n",
    "\n",
    "\n",
    "def palindrome(n):\n",
    "    no=n\n",
    "    no2=0\n",
    "    while n>0:\n",
    "        no2=10*no2+(n%10)\n",
    "        n=n//10\n",
    "    return no2==no\n",
    "\n",
    "pal=[]\n",
    "def palprime():     # now u understand why i used the function itertwin\n",
    "    for i in range(2,N):\n",
    "        if p[i]==False and palindrome(i): pal.append(i)\n",
    "\n",
    "def palprime_range(a,b):\n",
    "    sm=smalleq(a,pal)\n",
    "    if sm==-1: return\n",
    "    while pal[sm]<=b:\n",
    "        print(pal[sm],end=' ')\n",
    "        sm+=1\n",
    "    print()\n",
    "palprime()  #yeah he exists, otherwise u will get a long list of errors"
   ],
   "metadata": {
    "collapsed": false,
    "pycharm": {
     "name": "#%%\n"
    }
   }
  },
  {
   "cell_type": "code",
   "execution_count": 67,
   "outputs": [
    {
     "name": "stdout",
     "output_type": "stream",
     "text": [
      "2 3 5 7 \n",
      "101 131 151 181 191 \n"
     ]
    }
   ],
   "source": [
    "for _ in range(2):\n",
    "    l=inp(3)\n",
    "    palprime_range(l[0],l[1])"
   ],
   "metadata": {
    "collapsed": false,
    "pycharm": {
     "name": "#%%\n"
    }
   }
  }
 ],
 "metadata": {
  "kernelspec": {
   "display_name": "Python 3",
   "language": "python",
   "name": "python3"
  },
  "language_info": {
   "codemirror_mode": {
    "name": "ipython",
    "version": 3
   },
   "file_extension": ".py",
   "mimetype": "text/x-python",
   "name": "python",
   "nbconvert_exporter": "python",
   "pygments_lexer": "ipython3",
   "version": "3.6.11"
  }
 },
 "nbformat": 4,
 "nbformat_minor": 1
}
